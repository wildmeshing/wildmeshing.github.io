{
 "cells": [
  {
   "cell_type": "markdown",
   "metadata": {},
   "source": [
    "# Wildmeshing tutorial"
   ]
  },
  {
   "cell_type": "markdown",
   "metadata": {},
   "source": [
    "This is a jupyter notebook. The \"real\" notebook can be found [here](https://github.com/wildmeshing/wildmeshing-python/blob/master/examples/tutorial.ipynb)."
   ]
  },
  {
   "cell_type": "markdown",
   "metadata": {},
   "source": [
    "To use it just import it!"
   ]
  },
  {
   "cell_type": "code",
   "execution_count": null,
   "metadata": {},
   "outputs": [],
   "source": [
    "import wildmeshing as wm"
   ]
  },
  {
   "cell_type": "markdown",
   "metadata": {},
   "source": [
    "We also import meshplot to visualize"
   ]
  },
  {
   "cell_type": "code",
   "execution_count": null,
   "metadata": {},
   "outputs": [],
   "source": [
    "import meshplot as mp"
   ]
  },
  {
   "cell_type": "markdown",
   "metadata": {},
   "source": [
    "## Triangulation"
   ]
  },
  {
   "cell_type": "markdown",
   "metadata": {},
   "source": [
    "The 2D meshing supports high order\n"
   ]
  },
  {
   "cell_type": "code",
   "execution_count": null,
   "metadata": {},
   "outputs": [],
   "source": [
    "V, F, nodes, F_nodes = wm.triangulate_svg(\"rocket.svg\")"
   ]
  },
  {
   "cell_type": "markdown",
   "metadata": {},
   "source": [
    "Plot the resulting mesh"
   ]
  },
  {
   "cell_type": "code",
   "execution_count": null,
   "metadata": {},
   "outputs": [],
   "source": [
    "mp.plot(V, F, shading={\"wireframe\": True})"
   ]
  },
  {
   "cell_type": "markdown",
   "metadata": {},
   "source": [
    "The resulting mesh with the high-order nodes:"
   ]
  },
  {
   "cell_type": "code",
   "execution_count": null,
   "metadata": {},
   "outputs": [],
   "source": [
    "p = mp.plot(V, F, return_plot=True, shading={\"wireframe\": True})\n",
    "p.add_points(nodes, shading={\"point_size\": 10})\n",
    "p"
   ]
  },
  {
   "cell_type": "markdown",
   "metadata": {},
   "source": [
    "The previous mesh also outside triangles, to avoid this we enable the option `cut_outside`"
   ]
  },
  {
   "cell_type": "code",
   "execution_count": null,
   "metadata": {},
   "outputs": [],
   "source": [
    "V, F, nodes, F_nodes = wm.triangulate_svg(\"rocket.svg\", cut_outside=True)"
   ]
  },
  {
   "cell_type": "code",
   "execution_count": null,
   "metadata": {},
   "outputs": [],
   "source": [
    "p = mp.plot(V, F, return_plot=True, shading={\"wireframe\": True})\n",
    "p.add_points(nodes, shading={\"point_size\": 10})\n",
    "p"
   ]
  },
  {
   "cell_type": "markdown",
   "metadata": {},
   "source": [
    "I we want to carve out the window we need to speficy a point inside"
   ]
  },
  {
   "cell_type": "code",
   "execution_count": null,
   "metadata": {},
   "outputs": [],
   "source": [
    "V, F, nodes, F_nodes = wm.triangulate_svg(\"rocket.svg\", cut_outside=True, hole_pts=[[255, 165]])"
   ]
  },
  {
   "cell_type": "code",
   "execution_count": null,
   "metadata": {},
   "outputs": [],
   "source": [
    "import numpy as np\n",
    "\n",
    "p = mp.plot(V, F, return_plot=True, shading={\"wireframe\": True})\n",
    "p.add_points(nodes, shading={\"point_size\": 10})\n",
    "p.add_points(np.array([255, 165]), shading={\"point_size\": 30, \"point_color\": \"green\"})\n",
    "p"
   ]
  },
  {
   "cell_type": "markdown",
   "metadata": {},
   "source": [
    "## Tetrahedralization (alpha)"
   ]
  },
  {
   "cell_type": "markdown",
   "metadata": {},
   "source": [
    "The tetrahedralization part is still under developement, for the moment it supports only files as input and output. "
   ]
  },
  {
   "cell_type": "code",
   "execution_count": null,
   "metadata": {},
   "outputs": [],
   "source": [
    "tetra = wm.Tetrahedralizer()\n",
    "tetra.load_mesh(\"small.stl\")\n",
    "tetra.tetrahedralize()\n",
    "V, T = tetra.get_tet_mesh()\n",
    "\n",
    "mp.plot(V, T)"
   ]
  },
  {
   "cell_type": "markdown",
   "metadata": {},
   "source": [
    "### Boolean operations\n",
    "\n",
    "Tetwild support boolean operation between meshes!"
   ]
  },
  {
   "cell_type": "code",
   "execution_count": null,
   "metadata": {},
   "outputs": [],
   "source": [
    "import igl\n",
    "import json"
   ]
  },
  {
   "cell_type": "markdown",
   "metadata": {},
   "source": [
    "We need json for passing the CSG tree and igl to load the data"
   ]
  },
  {
   "cell_type": "code",
   "execution_count": null,
   "metadata": {},
   "outputs": [],
   "source": [
    "v0, f0 = igl.read_triangle_mesh('csg_input/ball.stl')\n",
    "v1, f1 = igl.read_triangle_mesh('csg_input/box.stl')\n",
    "v2, f2 = igl.read_triangle_mesh('csg_input/x.stl')\n",
    "v3, f3 = igl.read_triangle_mesh('csg_input/y.stl')\n",
    "v4, f4 = igl.read_triangle_mesh('csg_input/z.stl')"
   ]
  },
  {
   "cell_type": "markdown",
   "metadata": {},
   "source": [
    "We load a couple of meshes to to get classical CGR tree example\n",
    "![](https://upload.wikimedia.org/wikipedia/commons/8/8b/Csg_tree.png)"
   ]
  },
  {
   "cell_type": "markdown",
   "metadata": {},
   "source": [
    "We create a `Tetrahedralizer`, load all meshes, and tetrahedralize.\n",
    "\n",
    "**Note 1** we set the `stop_quality` to 100 since we dont care to have high-quality meshes\n",
    "\n",
    "**Note 2** the order of the 5 meshes matters, first mesh will have id 0 and so on"
   ]
  },
  {
   "cell_type": "code",
   "execution_count": null,
   "metadata": {},
   "outputs": [],
   "source": [
    "tetra = wm.Tetrahedralizer(stop_quality=100)\n",
    "tetra.set_meshes([v0, v1, v2, v3, v4], [f0, f1, f2, f3, f4])\n",
    "tetra.tetrahedralize()"
   ]
  },
  {
   "cell_type": "markdown",
   "metadata": {},
   "source": [
    "The mesh has been generated!\n",
    "\n",
    "\n",
    "We can do the union between the last two meshes (id 3, and 4).\n",
    "It is fast, since it dosent require to regenerate the tet mesh"
   ]
  },
  {
   "cell_type": "code",
   "execution_count": null,
   "metadata": {},
   "outputs": [],
   "source": [
    "V, T = tetra.get_tet_mesh_from_csg(json.dumps({\"operation\":\"union\", \"left\": 3, \"right\": 4}))\n",
    "mp.plot(V, T)"
   ]
  },
  {
   "cell_type": "markdown",
   "metadata": {},
   "source": [
    "Now we create the cross by taking 2 unions."
   ]
  },
  {
   "cell_type": "code",
   "execution_count": null,
   "metadata": {},
   "outputs": [],
   "source": [
    "V, T = tetra.get_tet_mesh_from_csg(json.dumps({\n",
    "    \"operation\": \"union\",\n",
    "    \"left\": 4,\n",
    "    \"right\": {\n",
    "        \"operation\": \"union\",\n",
    "        \"left\": 3,\n",
    "        \"right\": 2\n",
    "    }}))\n",
    "mp.plot(V, T)"
   ]
  },
  {
   "cell_type": "markdown",
   "metadata": {},
   "source": [
    "We evaluate the second part of the tree with an intersection between the first and second mesh (id 0 and 1)"
   ]
  },
  {
   "cell_type": "code",
   "execution_count": null,
   "metadata": {},
   "outputs": [],
   "source": [
    "V, T = tetra.get_tet_mesh_from_csg(json.dumps({\"operation\":\"intersection\", \"left\": 0, \"right\": 1}))\n",
    "mp.plot(V, T)"
   ]
  },
  {
   "cell_type": "markdown",
   "metadata": {},
   "source": [
    "We can get the final result by a final difference"
   ]
  },
  {
   "cell_type": "code",
   "execution_count": null,
   "metadata": {},
   "outputs": [],
   "source": [
    "V, T = tetra.get_tet_mesh_from_csg(json.dumps({\n",
    "    \"operation\": \"difference\",\n",
    "    \"left\": {\n",
    "        \"operation\":\"intersection\",\n",
    "        \"left\": 0,\n",
    "        \"right\": 1\n",
    "    },\n",
    "    \"right\": {\n",
    "        \"operation\": \"union\",\n",
    "        \"left\": 4,\n",
    "        \"right\": {\n",
    "            \"operation\": \"union\",\n",
    "            \"left\": 3,\n",
    "            \"right\": 2\n",
    "        }\n",
    "    }\n",
    "}))\n",
    "mp.plot(V, T)"
   ]
  },
  {
   "cell_type": "code",
   "execution_count": null,
   "metadata": {},
   "outputs": [],
   "source": []
  }
 ],
 "metadata": {
  "kernelspec": {
   "display_name": "Python 3",
   "language": "python",
   "name": "python3"
  },
  "language_info": {
   "codemirror_mode": {
    "name": "ipython",
    "version": 3
   },
   "file_extension": ".py",
   "mimetype": "text/x-python",
   "name": "python",
   "nbconvert_exporter": "python",
   "pygments_lexer": "ipython3",
   "version": "3.6.7"
  }
 },
 "nbformat": 4,
 "nbformat_minor": 2
}

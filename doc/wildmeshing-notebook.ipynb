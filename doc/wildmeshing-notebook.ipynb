{
 "cells": [
  {
   "cell_type": "markdown",
   "metadata": {},
   "source": [
    "# Wildmeshing tutorial"
   ]
  },
  {
   "cell_type": "markdown",
   "metadata": {},
   "source": [
    "This is a jupyter notebook. The \"real\" notebook can be found [here](https://github.com/wildmeshing/wildmeshing-python/blob/master/examples/tutorial.ipynb)."
   ]
  },
  {
   "cell_type": "markdown",
   "metadata": {},
   "source": [
    "Wild meshing is a package that contains robust 2D and 3D meshing algorithms.\n",
    "\n",
    "It has 4 main functions:\n",
    "\n",
    " - `tetrahedralize`\n",
    " - `triangulate`\n",
    " - `triangulate_data`\n",
    " - `triangulate_svg`"
   ]
  },
  {
   "cell_type": "markdown",
   "metadata": {},
   "source": [
    "To use it just import it!"
   ]
  },
  {
   "cell_type": "code",
   "execution_count": null,
   "metadata": {},
   "outputs": [],
   "source": [
    "import wildmeshing as wm"
   ]
  },
  {
   "cell_type": "markdown",
   "metadata": {},
   "source": [
    "We also import meshplot to visualize"
   ]
  },
  {
   "cell_type": "code",
   "execution_count": null,
   "metadata": {},
   "outputs": [],
   "source": [
    "import meshplot as mp"
   ]
  },
  {
   "cell_type": "markdown",
   "metadata": {},
   "source": [
    "## File based API"
   ]
  },
  {
   "cell_type": "markdown",
   "metadata": {},
   "source": [
    "`tetrahedralize` and `triangulate` takes as input a path and write the output to a file using these parameters\n",
    " \n",
    " - `input`:  Input segments in .obj format (for `triangulate`) and input surface mesh in .off/.obj/.stl/.ply format (for `tetrahedralize`).\n",
    " - `feature_input` default \"\": Input feature json file (only for `triangulate`)\n",
    " - `output`, default \"\": output path"
   ]
  },
  {
   "cell_type": "markdown",
   "metadata": {},
   "source": [
    "## `numpy` based API"
   ]
  },
  {
   "cell_type": "markdown",
   "metadata": {},
   "source": [
    "`triangulate_data` uses `numpy` arrays as input and output:\n",
    "\n",
    "- `V`: Input vertices\n",
    "- `E`: Input edges\n",
    "- `feature_info`, default `none`: Json string containing the features"
   ]
  },
  {
   "cell_type": "markdown",
   "metadata": {},
   "source": [
    "`triangulate_svg` reads an SVG and returns `numpy` arrays:\n",
    "\n",
    "- `svg_path`: Path for the input SVG file"
   ]
  },
  {
   "cell_type": "markdown",
   "metadata": {},
   "source": [
    "## Common options"
   ]
  },
  {
   "cell_type": "markdown",
   "metadata": {},
   "source": [
    "All function have a common list of parameters:\n",
    "\n",
    "- `stop_quality`, default -1: Specify max AMIPS energy for stopping mesh optimization\n",
    "- `max_its`, default 80: Max number of mesh optimization iterations\n",
    "- `stage`, default 1 in 2D and 2 in 3D: Specify envelope stage\n",
    "- `epsilon`, default -1: Relative envelope $\\epsilon_r$. Absolute $\\epsilon = \\epsilon_r \\cdot d$, where $d$ is the diagonal of the bounding box\n",
    "- `edge_length_r`, default 1/20: Relative target edge length $\\ell_r$. Absolute $\\ell=\\ell_r \\cdot d$,  where $d$ is the diagonal of the bounding box\n",
    "- `mute_log`, default false: Mute prints"
   ]
  },
  {
   "cell_type": "markdown",
   "metadata": {},
   "source": [
    "## Triangulation"
   ]
  },
  {
   "cell_type": "markdown",
   "metadata": {},
   "source": [
    "The 2D meshing supports high order, therefore it has these additional options:\n",
    "\n",
    "- `feature_epsilon`, default 1e-3: Relative feature envelope mu_r. Absolute mu, default mu_r * diagonal_of_bbox (only for `triangulate`)\n",
    "- `flat_feature_angle`, default 10: Desired minimal angle\n",
    "- `cut_outside`, default false: Remove \"outside part\"\n",
    "- `skip_eps`, default false: Skip saving eps\n",
    "- `hole_file`, default \"\": Input a .xyz file for specifying points inside holes you want to remove\n"
   ]
  },
  {
   "cell_type": "code",
   "execution_count": null,
   "metadata": {},
   "outputs": [],
   "source": [
    "V, F, nodes, F_nodes = wm.triangulate_svg(\"rocket.svg\")"
   ]
  },
  {
   "cell_type": "code",
   "execution_count": null,
   "metadata": {},
   "outputs": [],
   "source": [
    "#The resulting mesh\n",
    "mp.plot(V, F)"
   ]
  },
  {
   "cell_type": "code",
   "execution_count": null,
   "metadata": {},
   "outputs": [],
   "source": [
    "#The resulting mesh with the high-order nodes:\n",
    "p = mp.plot(V, F, return_plot=True)\n",
    "p.add_points(nodes, shading={\"point_size\": 10})\n",
    "p"
   ]
  },
  {
   "cell_type": "markdown",
   "metadata": {},
   "source": [
    "The previous mesh also outside triangles, to avoid this we enable the option `cut_outside`"
   ]
  },
  {
   "cell_type": "code",
   "execution_count": null,
   "metadata": {},
   "outputs": [],
   "source": [
    "V, F, nodes, F_nodes = wm.triangulate_svg(\"rocket.svg\", cut_outside=True)"
   ]
  },
  {
   "cell_type": "code",
   "execution_count": null,
   "metadata": {},
   "outputs": [],
   "source": [
    "p = mp.plot(V, F, return_plot=True)\n",
    "p.add_points(nodes, shading={\"point_size\": 10})\n",
    "p"
   ]
  },
  {
   "cell_type": "markdown",
   "metadata": {},
   "source": [
    "I we want to carve out the window we need to speficy a point inside"
   ]
  },
  {
   "cell_type": "code",
   "execution_count": null,
   "metadata": {},
   "outputs": [],
   "source": [
    "import numpy as np\n",
    "V, F, nodes, F_nodes = wm.triangulate_svg(\"rocket.svg\", cut_outside=True, hole_pts=[[255, 165]])\n",
    "p = mp.plot(V, F, return_plot=True)\n",
    "p.add_points(nodes, shading={\"point_size\": 10})\n",
    "p.add_points(np.array([255, 165]), shading={\"point_size\": 30, \"point_color\": \"green\"})\n",
    "p"
   ]
  },
  {
   "cell_type": "markdown",
   "metadata": {},
   "source": [
    "## Tetrahedralization (alpha)"
   ]
  },
  {
   "cell_type": "markdown",
   "metadata": {},
   "source": [
    "The tetrahedralization part is still under developement, for the moment it supports only files as input and output. Since it is more costly and complicated it has an additional input:\n",
    "\n",
    "- `skip_simplify`, default false: Skips the mesh simplification"
   ]
  },
  {
   "cell_type": "code",
   "execution_count": null,
   "metadata": {},
   "outputs": [],
   "source": [
    "wm.tetrahedralize(\"small.stl\", \"out.msh\")"
   ]
  }
 ],
 "metadata": {
  "kernelspec": {
   "display_name": "Python 3",
   "language": "python",
   "name": "python3"
  },
  "language_info": {
   "codemirror_mode": {
    "name": "ipython",
    "version": 3
   },
   "file_extension": ".py",
   "mimetype": "text/x-python",
   "name": "python",
   "nbconvert_exporter": "python",
   "pygments_lexer": "ipython3",
   "version": "3.6.7"
  }
 },
 "nbformat": 4,
 "nbformat_minor": 2
}
